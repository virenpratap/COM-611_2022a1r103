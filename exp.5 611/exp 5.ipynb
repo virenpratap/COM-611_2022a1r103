{
 "cells": [
  {
   "cell_type": "markdown",
   "id": "66617f69-71a4-49fc-a5c1-ca2193f49a4a",
   "metadata": {},
   "source": [
    "## Implement the linear regression on the salary prediction based on the given set of training data samples. Read the training data from a .csv file."
   ]
  },
  {
   "cell_type": "code",
   "execution_count": 1,
   "id": "c365423d-c8fb-40da-8542-bf45c8204346",
   "metadata": {},
   "outputs": [],
   "source": [
    "import warnings\n",
    "warnings.filterwarnings('ignore')"
   ]
  },
  {
   "cell_type": "markdown",
   "id": "68bf863c-8694-466a-a0ff-2de5fdfa9a67",
   "metadata": {},
   "source": [
    "### seaborn: A data visualization library based on matplotlib. It provides a high-level interface for creating informative and attractive statistical graphics.\n",
    "\n",
    "### sklearn.model_selection: A module in scikit-learn library that provide various fuctions for splitting the dataset into train and test sets, such as train_test_split().\n",
    "\n",
    "### statsmodels.api: A Python model that provides various dstatistical models and functions, including linear regression models. \n",
    "\n",
    "### sklearn.metrics: A module in scikit_learn library that provides a suite of evaluation metrics, including mean squared error(MSE) and R-squared (R2) score,"
   ]
  },
  {
   "cell_type": "code",
   "execution_count": 10,
   "id": "5da00b29-86d1-42dd-a4e5-606180721f9f",
   "metadata": {},
   "outputs": [],
   "source": [
    "#import libraries\n",
    "\n",
    "import numpy as np\n",
    "import pandas as pd\n",
    "import matplotlib.pyplot as plt\n",
    "import seaborn as sns\n",
    "from sklearn.model_selection import train_test_split\n",
    "import statsmodels.api as sm\n",
    "from sklearn.metrics import mean_squared_error\n",
    "from sklearn.metrics import r2_score"
   ]
  },
  {
   "cell_type": "code",
   "execution_count": 6,
   "id": "84207d44-9633-4083-bd51-63deae706025",
   "metadata": {},
   "outputs": [
    {
     "name": "stdout",
     "output_type": "stream",
     "text": [
      "Collecting seabornNote: you may need to restart the kernel to use updated packages.\n",
      "\n",
      "  Downloading seaborn-0.13.2-py3-none-any.whl.metadata (5.4 kB)\n",
      "Requirement already satisfied: numpy!=1.24.0,>=1.20 in c:\\users\\jandi\\appdata\\local\\programs\\python\\python312\\lib\\site-packages (from seaborn) (1.26.4)\n",
      "Requirement already satisfied: pandas>=1.2 in c:\\users\\jandi\\appdata\\local\\programs\\python\\python312\\lib\\site-packages (from seaborn) (2.2.2)\n",
      "Requirement already satisfied: matplotlib!=3.6.1,>=3.4 in c:\\users\\jandi\\appdata\\local\\programs\\python\\python312\\lib\\site-packages (from seaborn) (3.9.1)\n",
      "Requirement already satisfied: contourpy>=1.0.1 in c:\\users\\jandi\\appdata\\local\\programs\\python\\python312\\lib\\site-packages (from matplotlib!=3.6.1,>=3.4->seaborn) (1.2.1)\n",
      "Requirement already satisfied: cycler>=0.10 in c:\\users\\jandi\\appdata\\local\\programs\\python\\python312\\lib\\site-packages (from matplotlib!=3.6.1,>=3.4->seaborn) (0.12.1)\n",
      "Requirement already satisfied: fonttools>=4.22.0 in c:\\users\\jandi\\appdata\\local\\programs\\python\\python312\\lib\\site-packages (from matplotlib!=3.6.1,>=3.4->seaborn) (4.53.1)\n",
      "Requirement already satisfied: kiwisolver>=1.3.1 in c:\\users\\jandi\\appdata\\local\\programs\\python\\python312\\lib\\site-packages (from matplotlib!=3.6.1,>=3.4->seaborn) (1.4.5)\n",
      "Requirement already satisfied: packaging>=20.0 in c:\\users\\jandi\\appdata\\roaming\\python\\python312\\site-packages (from matplotlib!=3.6.1,>=3.4->seaborn) (24.1)\n",
      "Requirement already satisfied: pillow>=8 in c:\\users\\jandi\\appdata\\local\\programs\\python\\python312\\lib\\site-packages (from matplotlib!=3.6.1,>=3.4->seaborn) (10.4.0)\n",
      "Requirement already satisfied: pyparsing>=2.3.1 in c:\\users\\jandi\\appdata\\local\\programs\\python\\python312\\lib\\site-packages (from matplotlib!=3.6.1,>=3.4->seaborn) (3.1.2)\n",
      "Requirement already satisfied: python-dateutil>=2.7 in c:\\users\\jandi\\appdata\\roaming\\python\\python312\\site-packages (from matplotlib!=3.6.1,>=3.4->seaborn) (2.9.0.post0)\n",
      "Requirement already satisfied: pytz>=2020.1 in c:\\users\\jandi\\appdata\\local\\programs\\python\\python312\\lib\\site-packages (from pandas>=1.2->seaborn) (2024.1)\n",
      "Requirement already satisfied: tzdata>=2022.7 in c:\\users\\jandi\\appdata\\local\\programs\\python\\python312\\lib\\site-packages (from pandas>=1.2->seaborn) (2024.1)\n",
      "Requirement already satisfied: six>=1.5 in c:\\users\\jandi\\appdata\\roaming\\python\\python312\\site-packages (from python-dateutil>=2.7->matplotlib!=3.6.1,>=3.4->seaborn) (1.16.0)\n",
      "Downloading seaborn-0.13.2-py3-none-any.whl (294 kB)\n",
      "Installing collected packages: seaborn\n",
      "Successfully installed seaborn-0.13.2\n"
     ]
    },
    {
     "name": "stderr",
     "output_type": "stream",
     "text": [
      "\n",
      "[notice] A new release of pip is available: 24.2 -> 25.0.1\n",
      "[notice] To update, run: python.exe -m pip install --upgrade pip\n"
     ]
    }
   ],
   "source": [
    "pip install seaborn"
   ]
  },
  {
   "cell_type": "code",
   "execution_count": 8,
   "id": "2347cf7b-8b5d-4cce-9a4b-37200e9bfd86",
   "metadata": {},
   "outputs": [
    {
     "name": "stdout",
     "output_type": "stream",
     "text": [
      "Collecting statsmodels\n",
      "  Downloading statsmodels-0.14.4-cp312-cp312-win_amd64.whl.metadata (9.5 kB)\n",
      "Requirement already satisfied: numpy<3,>=1.22.3 in c:\\users\\jandi\\appdata\\local\\programs\\python\\python312\\lib\\site-packages (from statsmodels) (1.26.4)\n",
      "Requirement already satisfied: scipy!=1.9.2,>=1.8 in c:\\users\\jandi\\appdata\\local\\programs\\python\\python312\\lib\\site-packages (from statsmodels) (1.14.0)\n",
      "Requirement already satisfied: pandas!=2.1.0,>=1.4 in c:\\users\\jandi\\appdata\\local\\programs\\python\\python312\\lib\\site-packages (from statsmodels) (2.2.2)\n",
      "Collecting patsy>=0.5.6 (from statsmodels)\n",
      "  Downloading patsy-1.0.1-py2.py3-none-any.whl.metadata (3.3 kB)\n",
      "Requirement already satisfied: packaging>=21.3 in c:\\users\\jandi\\appdata\\roaming\\python\\python312\\site-packages (from statsmodels) (24.1)\n",
      "Requirement already satisfied: python-dateutil>=2.8.2 in c:\\users\\jandi\\appdata\\roaming\\python\\python312\\site-packages (from pandas!=2.1.0,>=1.4->statsmodels) (2.9.0.post0)\n",
      "Requirement already satisfied: pytz>=2020.1 in c:\\users\\jandi\\appdata\\local\\programs\\python\\python312\\lib\\site-packages (from pandas!=2.1.0,>=1.4->statsmodels) (2024.1)\n",
      "Requirement already satisfied: tzdata>=2022.7 in c:\\users\\jandi\\appdata\\local\\programs\\python\\python312\\lib\\site-packages (from pandas!=2.1.0,>=1.4->statsmodels) (2024.1)\n",
      "Requirement already satisfied: six>=1.5 in c:\\users\\jandi\\appdata\\roaming\\python\\python312\\site-packages (from python-dateutil>=2.8.2->pandas!=2.1.0,>=1.4->statsmodels) (1.16.0)\n",
      "Downloading statsmodels-0.14.4-cp312-cp312-win_amd64.whl (9.8 MB)\n",
      "   ---------------------------------------- 0.0/9.8 MB ? eta -:--:--\n",
      "   ---------------------------------------- 0.0/9.8 MB ? eta -:--:--\n",
      "   - -------------------------------------- 0.3/9.8 MB ? eta -:--:--\n",
      "   - -------------------------------------- 0.3/9.8 MB ? eta -:--:--\n",
      "   - -------------------------------------- 0.3/9.8 MB ? eta -:--:--\n",
      "   -- ------------------------------------- 0.5/9.8 MB 453.5 kB/s eta 0:00:21\n",
      "   --- ------------------------------------ 0.8/9.8 MB 589.1 kB/s eta 0:00:16\n",
      "   --- ------------------------------------ 0.8/9.8 MB 589.1 kB/s eta 0:00:16\n",
      "   --- ------------------------------------ 0.8/9.8 MB 589.1 kB/s eta 0:00:16\n",
      "   ---- ----------------------------------- 1.0/9.8 MB 559.3 kB/s eta 0:00:16\n",
      "   ---- ----------------------------------- 1.0/9.8 MB 559.3 kB/s eta 0:00:16\n",
      "   ----- ---------------------------------- 1.3/9.8 MB 583.5 kB/s eta 0:00:15\n",
      "   ------ --------------------------------- 1.6/9.8 MB 640.3 kB/s eta 0:00:13\n",
      "   ------ --------------------------------- 1.6/9.8 MB 640.3 kB/s eta 0:00:13\n",
      "   ------- -------------------------------- 1.8/9.8 MB 637.3 kB/s eta 0:00:13\n",
      "   -------- ------------------------------- 2.1/9.8 MB 667.3 kB/s eta 0:00:12\n",
      "   -------- ------------------------------- 2.1/9.8 MB 667.3 kB/s eta 0:00:12\n",
      "   -------- ------------------------------- 2.1/9.8 MB 667.3 kB/s eta 0:00:12\n",
      "   --------- ------------------------------ 2.4/9.8 MB 642.3 kB/s eta 0:00:12\n",
      "   --------- ------------------------------ 2.4/9.8 MB 642.3 kB/s eta 0:00:12\n",
      "   ---------- ----------------------------- 2.6/9.8 MB 637.1 kB/s eta 0:00:12\n",
      "   ---------- ----------------------------- 2.6/9.8 MB 637.1 kB/s eta 0:00:12\n",
      "   ----------- ---------------------------- 2.9/9.8 MB 642.8 kB/s eta 0:00:11\n",
      "   ----------- ---------------------------- 2.9/9.8 MB 642.8 kB/s eta 0:00:11\n",
      "   ------------ --------------------------- 3.1/9.8 MB 647.6 kB/s eta 0:00:11\n",
      "   ------------- -------------------------- 3.4/9.8 MB 651.6 kB/s eta 0:00:10\n",
      "   ------------- -------------------------- 3.4/9.8 MB 651.6 kB/s eta 0:00:10\n",
      "   ------------- -------------------------- 3.4/9.8 MB 651.6 kB/s eta 0:00:10\n",
      "   -------------- ------------------------- 3.7/9.8 MB 630.4 kB/s eta 0:00:10\n",
      "   -------------- ------------------------- 3.7/9.8 MB 630.4 kB/s eta 0:00:10\n",
      "   ---------------- ----------------------- 3.9/9.8 MB 631.5 kB/s eta 0:00:10\n",
      "   ---------------- ----------------------- 3.9/9.8 MB 631.5 kB/s eta 0:00:10\n",
      "   ----------------- ---------------------- 4.2/9.8 MB 637.1 kB/s eta 0:00:09\n",
      "   ----------------- ---------------------- 4.2/9.8 MB 637.1 kB/s eta 0:00:09\n",
      "   ------------------ --------------------- 4.5/9.8 MB 642.2 kB/s eta 0:00:09\n",
      "   ------------------- -------------------- 4.7/9.8 MB 651.2 kB/s eta 0:00:08\n",
      "   ------------------- -------------------- 4.7/9.8 MB 651.2 kB/s eta 0:00:08\n",
      "   -------------------- ------------------- 5.0/9.8 MB 653.7 kB/s eta 0:00:08\n",
      "   -------------------- ------------------- 5.0/9.8 MB 653.7 kB/s eta 0:00:08\n",
      "   --------------------- ------------------ 5.2/9.8 MB 660.0 kB/s eta 0:00:07\n",
      "   ---------------------- ----------------- 5.5/9.8 MB 663.2 kB/s eta 0:00:07\n",
      "   ---------------------- ----------------- 5.5/9.8 MB 663.2 kB/s eta 0:00:07\n",
      "   ----------------------- ---------------- 5.8/9.8 MB 663.5 kB/s eta 0:00:07\n",
      "   ------------------------ --------------- 6.0/9.8 MB 672.3 kB/s eta 0:00:06\n",
      "   ------------------------ --------------- 6.0/9.8 MB 672.3 kB/s eta 0:00:06\n",
      "   ------------------------- -------------- 6.3/9.8 MB 673.4 kB/s eta 0:00:06\n",
      "   ------------------------- -------------- 6.3/9.8 MB 673.4 kB/s eta 0:00:06\n",
      "   -------------------------- ------------- 6.6/9.8 MB 681.3 kB/s eta 0:00:05\n",
      "   --------------------------- ------------ 6.8/9.8 MB 687.6 kB/s eta 0:00:05\n",
      "   ---------------------------- ----------- 7.1/9.8 MB 699.0 kB/s eta 0:00:04\n",
      "   ----------------------------- ---------- 7.3/9.8 MB 708.9 kB/s eta 0:00:04\n",
      "   ------------------------------ --------- 7.6/9.8 MB 717.2 kB/s eta 0:00:04\n",
      "   ------------------------------ --------- 7.6/9.8 MB 717.2 kB/s eta 0:00:04\n",
      "   ------------------------------ --------- 7.6/9.8 MB 717.2 kB/s eta 0:00:04\n",
      "   ------------------------------ --------- 7.6/9.8 MB 717.2 kB/s eta 0:00:04\n",
      "   -------------------------------- ------- 7.9/9.8 MB 687.2 kB/s eta 0:00:03\n",
      "   -------------------------------- ------- 7.9/9.8 MB 687.2 kB/s eta 0:00:03\n",
      "   -------------------------------- ------- 7.9/9.8 MB 687.2 kB/s eta 0:00:03\n",
      "   --------------------------------- ------ 8.1/9.8 MB 677.4 kB/s eta 0:00:03\n",
      "   ---------------------------------- ----- 8.4/9.8 MB 683.5 kB/s eta 0:00:03\n",
      "   ---------------------------------- ----- 8.4/9.8 MB 683.5 kB/s eta 0:00:03\n",
      "   ----------------------------------- ---- 8.7/9.8 MB 687.4 kB/s eta 0:00:02\n",
      "   ------------------------------------ --- 8.9/9.8 MB 692.1 kB/s eta 0:00:02\n",
      "   ------------------------------------ --- 8.9/9.8 MB 692.1 kB/s eta 0:00:02\n",
      "   ------------------------------------- -- 9.2/9.8 MB 690.6 kB/s eta 0:00:01\n",
      "   ------------------------------------- -- 9.2/9.8 MB 690.6 kB/s eta 0:00:01\n",
      "   -------------------------------------- - 9.4/9.8 MB 691.7 kB/s eta 0:00:01\n",
      "   ---------------------------------------  9.7/9.8 MB 697.4 kB/s eta 0:00:01\n",
      "   ---------------------------------------- 9.8/9.8 MB 698.6 kB/s eta 0:00:00\n",
      "Downloading patsy-1.0.1-py2.py3-none-any.whl (232 kB)\n",
      "Installing collected packages: patsy, statsmodels\n",
      "Successfully installed patsy-1.0.1 statsmodels-0.14.4\n",
      "Note: you may need to restart the kernel to use updated packages.\n"
     ]
    },
    {
     "name": "stderr",
     "output_type": "stream",
     "text": [
      "\n",
      "[notice] A new release of pip is available: 24.2 -> 25.0.1\n",
      "[notice] To update, run: python.exe -m pip install --upgrade pip\n"
     ]
    }
   ],
   "source": [
    "pip install statsmodels"
   ]
  },
  {
   "cell_type": "code",
   "execution_count": 11,
   "id": "2855d8f9-a238-417e-9997-7d90d5a54eee",
   "metadata": {},
   "outputs": [
    {
     "data": {
      "text/html": [
       "<div>\n",
       "<style scoped>\n",
       "    .dataframe tbody tr th:only-of-type {\n",
       "        vertical-align: middle;\n",
       "    }\n",
       "\n",
       "    .dataframe tbody tr th {\n",
       "        vertical-align: top;\n",
       "    }\n",
       "\n",
       "    .dataframe thead th {\n",
       "        text-align: right;\n",
       "    }\n",
       "</style>\n",
       "<table border=\"1\" class=\"dataframe\">\n",
       "  <thead>\n",
       "    <tr style=\"text-align: right;\">\n",
       "      <th></th>\n",
       "      <th>YearsExperience</th>\n",
       "      <th>Salary</th>\n",
       "    </tr>\n",
       "  </thead>\n",
       "  <tbody>\n",
       "    <tr>\n",
       "      <th>0</th>\n",
       "      <td>1.1</td>\n",
       "      <td>39343</td>\n",
       "    </tr>\n",
       "    <tr>\n",
       "      <th>1</th>\n",
       "      <td>1.3</td>\n",
       "      <td>46205</td>\n",
       "    </tr>\n",
       "    <tr>\n",
       "      <th>2</th>\n",
       "      <td>1.5</td>\n",
       "      <td>37731</td>\n",
       "    </tr>\n",
       "    <tr>\n",
       "      <th>3</th>\n",
       "      <td>2.0</td>\n",
       "      <td>43525</td>\n",
       "    </tr>\n",
       "    <tr>\n",
       "      <th>4</th>\n",
       "      <td>2.2</td>\n",
       "      <td>39891</td>\n",
       "    </tr>\n",
       "    <tr>\n",
       "      <th>5</th>\n",
       "      <td>2.9</td>\n",
       "      <td>56642</td>\n",
       "    </tr>\n",
       "    <tr>\n",
       "      <th>6</th>\n",
       "      <td>3.0</td>\n",
       "      <td>60150</td>\n",
       "    </tr>\n",
       "    <tr>\n",
       "      <th>7</th>\n",
       "      <td>3.2</td>\n",
       "      <td>54445</td>\n",
       "    </tr>\n",
       "    <tr>\n",
       "      <th>8</th>\n",
       "      <td>3.2</td>\n",
       "      <td>64445</td>\n",
       "    </tr>\n",
       "    <tr>\n",
       "      <th>9</th>\n",
       "      <td>3.7</td>\n",
       "      <td>57189</td>\n",
       "    </tr>\n",
       "  </tbody>\n",
       "</table>\n",
       "</div>"
      ],
      "text/plain": [
       "   YearsExperience  Salary\n",
       "0              1.1   39343\n",
       "1              1.3   46205\n",
       "2              1.5   37731\n",
       "3              2.0   43525\n",
       "4              2.2   39891\n",
       "5              2.9   56642\n",
       "6              3.0   60150\n",
       "7              3.2   54445\n",
       "8              3.2   64445\n",
       "9              3.7   57189"
      ]
     },
     "execution_count": 11,
     "metadata": {},
     "output_type": "execute_result"
    }
   ],
   "source": [
    "#import data\n",
    "data = pd.read_csv('Salary_Data.csv')\n",
    "data.head(10)"
   ]
  },
  {
   "cell_type": "code",
   "execution_count": 13,
   "id": "dff1c734-1e71-4e24-9138-bf41d40393a8",
   "metadata": {},
   "outputs": [
    {
     "data": {
      "text/html": [
       "<div>\n",
       "<style scoped>\n",
       "    .dataframe tbody tr th:only-of-type {\n",
       "        vertical-align: middle;\n",
       "    }\n",
       "\n",
       "    .dataframe tbody tr th {\n",
       "        vertical-align: top;\n",
       "    }\n",
       "\n",
       "    .dataframe thead th {\n",
       "        text-align: right;\n",
       "    }\n",
       "</style>\n",
       "<table border=\"1\" class=\"dataframe\">\n",
       "  <thead>\n",
       "    <tr style=\"text-align: right;\">\n",
       "      <th></th>\n",
       "      <th>YearsExperience</th>\n",
       "      <th>Salary</th>\n",
       "    </tr>\n",
       "  </thead>\n",
       "  <tbody>\n",
       "    <tr>\n",
       "      <th>count</th>\n",
       "      <td>30.000000</td>\n",
       "      <td>30.000000</td>\n",
       "    </tr>\n",
       "    <tr>\n",
       "      <th>mean</th>\n",
       "      <td>5.313333</td>\n",
       "      <td>76003.000000</td>\n",
       "    </tr>\n",
       "    <tr>\n",
       "      <th>std</th>\n",
       "      <td>2.837888</td>\n",
       "      <td>27414.429785</td>\n",
       "    </tr>\n",
       "    <tr>\n",
       "      <th>min</th>\n",
       "      <td>1.100000</td>\n",
       "      <td>37731.000000</td>\n",
       "    </tr>\n",
       "    <tr>\n",
       "      <th>25%</th>\n",
       "      <td>3.200000</td>\n",
       "      <td>56720.750000</td>\n",
       "    </tr>\n",
       "    <tr>\n",
       "      <th>50%</th>\n",
       "      <td>4.700000</td>\n",
       "      <td>65237.000000</td>\n",
       "    </tr>\n",
       "    <tr>\n",
       "      <th>75%</th>\n",
       "      <td>7.700000</td>\n",
       "      <td>100544.750000</td>\n",
       "    </tr>\n",
       "    <tr>\n",
       "      <th>max</th>\n",
       "      <td>10.500000</td>\n",
       "      <td>122391.000000</td>\n",
       "    </tr>\n",
       "  </tbody>\n",
       "</table>\n",
       "</div>"
      ],
      "text/plain": [
       "       YearsExperience         Salary\n",
       "count        30.000000      30.000000\n",
       "mean          5.313333   76003.000000\n",
       "std           2.837888   27414.429785\n",
       "min           1.100000   37731.000000\n",
       "25%           3.200000   56720.750000\n",
       "50%           4.700000   65237.000000\n",
       "75%           7.700000  100544.750000\n",
       "max          10.500000  122391.000000"
      ]
     },
     "execution_count": 13,
     "metadata": {},
     "output_type": "execute_result"
    }
   ],
   "source": [
    "data.describe()"
   ]
  },
  {
   "cell_type": "code",
   "execution_count": 12,
   "id": "9b941b13-46aa-47a5-bfce-9bd5660491c9",
   "metadata": {},
   "outputs": [
    {
     "data": {
      "text/plain": [
       "(30, 2)"
      ]
     },
     "execution_count": 12,
     "metadata": {},
     "output_type": "execute_result"
    }
   ],
   "source": [
    " data.shape"
   ]
  },
  {
   "cell_type": "markdown",
   "id": "8edd037b-5d75-468a-85e9-64293e48bd2a",
   "metadata": {},
   "source": [
    "#### Min years of experience is 1.1 with a salary of 27414.4 and max years of experience is 10.5 with a salary of 122391."
   ]
  },
  {
   "cell_type": "code",
   "execution_count": 14,
   "id": "40ef25b5-d217-41ce-9970-5a276ac0df27",
   "metadata": {},
   "outputs": [
    {
     "data": {
      "text/plain": [
       "<seaborn.axisgrid.PairGrid at 0x21bb9624710>"
      ]
     },
     "execution_count": 14,
     "metadata": {},
     "output_type": "execute_result"
    },
    {
     "data": {
      "image/png": "[encoded data removed]",
      "text/plain": [
       "<Figure size 250x250 with 1 Axes>"
      ]
     },
     "metadata": {},
     "output_type": "display_data"
    }
   ],
   "source": [
    "sns.pairplot(y_vars = 'Salary', x_vars = 'YearsExperience' , data=data)"
   ]
  },
  {
   "cell_type": "markdown",
   "id": "44e8a883-6f4e-476f-b0f9-461a76b5ada8",
   "metadata": {},
   "source": [
    "#### data.corr() calculate the pairwise correlation between all the columns in a pandas DataFrame data. This correlation matrix can be useful for identifying the strength and direction of the relationships between variables in the dataset. It can also be visualized using heatmaps or other graphical tools to make it easier to interpret."
   ]
  },
  {
   "cell_type": "code",
   "execution_count": 15,
   "id": "7fa1705c-e83a-41ab-bb1d-d2648c4b8c24",
   "metadata": {},
   "outputs": [
    {
     "data": {
      "text/html": [
       "<div>\n",
       "<style scoped>\n",
       "    .dataframe tbody tr th:only-of-type {\n",
       "        vertical-align: middle;\n",
       "    }\n",
       "\n",
       "    .dataframe tbody tr th {\n",
       "        vertical-align: top;\n",
       "    }\n",
       "\n",
       "    .dataframe thead th {\n",
       "        text-align: right;\n",
       "    }\n",
       "</style>\n",
       "<table border=\"1\" class=\"dataframe\">\n",
       "  <thead>\n",
       "    <tr style=\"text-align: right;\">\n",
       "      <th></th>\n",
       "      <th>YearsExperience</th>\n",
       "      <th>Salary</th>\n",
       "    </tr>\n",
       "  </thead>\n",
       "  <tbody>\n",
       "    <tr>\n",
       "      <th>YearsExperience</th>\n",
       "      <td>1.000000</td>\n",
       "      <td>0.978242</td>\n",
       "    </tr>\n",
       "    <tr>\n",
       "      <th>Salary</th>\n",
       "      <td>0.978242</td>\n",
       "      <td>1.000000</td>\n",
       "    </tr>\n",
       "  </tbody>\n",
       "</table>\n",
       "</div>"
      ],
      "text/plain": [
       "                 YearsExperience    Salary\n",
       "YearsExperience         1.000000  0.978242\n",
       "Salary                  0.978242  1.000000"
      ]
     },
     "execution_count": 15,
     "metadata": {},
     "output_type": "execute_result"
    }
   ],
   "source": [
    "#checking the correlation of the data.\n",
    "data.corr()"
   ]
  },
  {
   "cell_type": "code",
   "execution_count": 16,
   "id": "e25728ae-f899-44b2-ac21-46ab8c9d49e6",
   "metadata": {},
   "outputs": [],
   "source": [
    "x=data['YearsExperience']\n",
    "y=data['Salary']"
   ]
  },
  {
   "cell_type": "code",
   "execution_count": 17,
   "id": "fe866717-90ee-46bf-a987-2599fd00a0b4",
   "metadata": {},
   "outputs": [],
   "source": [
    "x_train, x_test, y_train, y_test = train_test_split(x,y, train_size = 0.7, test_size = 0.3, random_state = 100)"
   ]
  },
  {
   "cell_type": "code",
   "execution_count": 18,
   "id": "93fbf703-2c47-4677-bb9c-5f00fbd3de28",
   "metadata": {},
   "outputs": [
    {
     "data": {
      "text/plain": [
       "(21,)"
      ]
     },
     "execution_count": 18,
     "metadata": {},
     "output_type": "execute_result"
    }
   ],
   "source": [
    "x_train.shape"
   ]
  },
  {
   "cell_type": "code",
   "execution_count": 19,
   "id": "05447cd5-f5ed-4506-98a4-b171e23ce56f",
   "metadata": {},
   "outputs": [
    {
     "data": {
      "text/plain": [
       "(9,)"
      ]
     },
     "execution_count": 19,
     "metadata": {},
     "output_type": "execute_result"
    }
   ],
   "source": [
    "x_test.shape"
   ]
  },
  {
   "cell_type": "markdown",
   "id": "8d3ed65c-6f52-40aa-adf3-fd75e0738af2",
   "metadata": {},
   "source": [
    "### Model Building:\n",
    "\n",
    "implement ordinary least squares(OLS) linear regression using the statsmodels library:\n",
    "x_train_sm = sm.add_constant(x_train): This adds a column of 1s to the x_train DataFrame, which serves as the intercept term in the regression model. The resultin DtaFrame x_train_sm is used in the regression model fitting."
   ]
  },
  {
   "cell_type": "code",
   "execution_count": 20,
   "id": "afad6d15-4226-4cda-9b58-3b17ba96dbd3",
   "metadata": {},
   "outputs": [],
   "source": [
    "x_train_sm = sm.add_constant(x_train)\n",
    "model = sm.OLS(y_train, x_train).fit()"
   ]
  },
  {
   "cell_type": "code",
   "execution_count": 21,
   "id": "d2e2c028-f32d-47f1-b83d-b8d6aac17034",
   "metadata": {},
   "outputs": [
    {
     "name": "stdout",
     "output_type": "stream",
     "text": [
      "                                 OLS Regression Results                                \n",
      "=======================================================================================\n",
      "Dep. Variable:                 Salary   R-squared (uncentered):                   0.972\n",
      "Model:                            OLS   Adj. R-squared (uncentered):              0.970\n",
      "Method:                 Least Squares   F-statistic:                              685.3\n",
      "Date:                Mon, 17 Mar 2025   Prob (F-statistic):                    6.00e-17\n",
      "Time:                        12:54:43   Log-Likelihood:                         -228.79\n",
      "No. Observations:                  21   AIC:                                      459.6\n",
      "Df Residuals:                      20   BIC:                                      460.6\n",
      "Df Model:                           1                                                  \n",
      "Covariance Type:            nonrobust                                                  \n",
      "===================================================================================\n",
      "                      coef    std err          t      P>|t|      [0.025      0.975]\n",
      "-----------------------------------------------------------------------------------\n",
      "YearsExperience  1.375e+04    525.413     26.179      0.000    1.27e+04    1.49e+04\n",
      "==============================================================================\n",
      "Omnibus:                        0.274   Durbin-Watson:                   2.089\n",
      "Prob(Omnibus):                  0.872   Jarque-Bera (JB):                0.067\n",
      "Skew:                          -0.124   Prob(JB):                        0.967\n",
      "Kurtosis:                       2.878   Cond. No.                         1.00\n",
      "==============================================================================\n",
      "\n",
      "Notes:\n",
      "[1] R² is computed without centering (uncentered) since the model does not contain a constant.\n",
      "[2] Standard Errors assume that the covariance matrix of the errors is correctly specified.\n"
     ]
    }
   ],
   "source": [
    "print(model.summary())"
   ]
  },
  {
   "cell_type": "code",
   "execution_count": null,
   "id": "9d0bcf35-f7a4-40c0-b0b2-fbfa18cd98ae",
   "metadata": {},
   "outputs": [],
   "source": []
  },
  {
   "cell_type": "code",
   "execution_count": null,
   "id": "b9700ac9-37c0-4edf-9605-336e30e8befd",
   "metadata": {},
   "outputs": [],
   "source": []
  },
  {
   "cell_type": "code",
   "execution_count": null,
   "id": "81e7d4c4-3d5d-44b9-91f1-284c2db93609",
   "metadata": {},
   "outputs": [],
   "source": []
  },
  {
   "cell_type": "code",
   "execution_count": null,
   "id": "c4ef8917-a967-4147-96d6-b52e442b5ddc",
   "metadata": {},
   "outputs": [],
   "source": []
  },
  {
   "cell_type": "code",
   "execution_count": null,
   "id": "154a8f83-dd53-450d-97a2-1df87ff6e332",
   "metadata": {},
   "outputs": [],
   "source": []
  },
  {
   "cell_type": "code",
   "execution_count": null,
   "id": "935d5aeb-8e97-4b61-9f1e-f3f1988dab62",
   "metadata": {},
   "outputs": [],
   "source": []
  },
  {
   "cell_type": "code",
   "execution_count": null,
   "id": "5157567c-a2db-4032-91b1-ea7f8a44b524",
   "metadata": {},
   "outputs": [],
   "source": []
  },
  {
   "cell_type": "code",
   "execution_count": null,
   "id": "2c78985a-8c59-4ebe-ab90-47b6d81cf1f3",
   "metadata": {},
   "outputs": [],
   "source": []
  },
  {
   "cell_type": "code",
   "execution_count": null,
   "id": "cb48124f-d1d4-4ae7-8f1b-b739bb43c54e",
   "metadata": {},
   "outputs": [],
   "source": []
  },
  {
   "cell_type": "code",
   "execution_count": null,
   "id": "92c7d6e9-d8a8-445e-8f6f-54ce756c4951",
   "metadata": {},
   "outputs": [],
   "source": []
  },
  {
   "cell_type": "code",
   "execution_count": null,
   "id": "fefc3f0f-0534-487d-91fc-439d2cae525c",
   "metadata": {},
   "outputs": [],
   "source": []
  },
  {
   "cell_type": "code",
   "execution_count": null,
   "id": "7679d213-0c26-41d1-b6d4-48f3d2b79563",
   "metadata": {},
   "outputs": [],
   "source": []
  },
  {
   "cell_type": "code",
   "execution_count": null,
   "id": "6c8cec42-04bf-4930-8b1d-4b71db5189b5",
   "metadata": {},
   "outputs": [],
   "source": []
  },
  {
   "cell_type": "code",
   "execution_count": null,
   "id": "ad071095-ca47-431d-ab19-7436cfaa3eb4",
   "metadata": {},
   "outputs": [],
   "source": []
  },
  {
   "cell_type": "code",
   "execution_count": null,
   "id": "d304ffbe-f6cf-4351-b968-579c2def6ede",
   "metadata": {},
   "outputs": [],
   "source": []
  },
  {
   "cell_type": "code",
   "execution_count": null,
   "id": "36dae7da-777b-454f-9927-07359ce18f13",
   "metadata": {},
   "outputs": [],
   "source": []
  },
  {
   "cell_type": "code",
   "execution_count": null,
   "id": "7e97aa10-9063-474e-8e2e-2842d29c4ab0",
   "metadata": {},
   "outputs": [],
   "source": []
  }
 ],
 "metadata": {
  "kernelspec": {
   "display_name": "Python 3 (ipykernel)",
   "language": "python",
   "name": "python3"
  },
  "language_info": {
   "codemirror_mode": {
    "name": "ipython",
    "version": 3
   },
   "file_extension": ".py",
   "mimetype": "text/x-python",
   "name": "python",
   "nbconvert_exporter": "python",
   "pygments_lexer": "ipython3",
   "version": "3.12.4"
  }
 },
 "nbformat": 4,
 "nbformat_minor": 5
}
