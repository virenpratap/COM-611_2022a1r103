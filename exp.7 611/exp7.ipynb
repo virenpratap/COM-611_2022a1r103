{
  "cells": [
    {
      "cell_type": "code",
      "execution_count": 1,
      "metadata": {
        "colab": {
          "base_uri": "https://localhost:8080/"
        },
        "id": "qgIBdfOgXO_C",
        "outputId": "da147f1d-558d-429b-fd03-d28d10f7c26d"
      },
      "outputs": [
        {
          "name": "stdout",
          "output_type": "stream",
          "text": [
            "Product Title = Samsung Galaxy S25 Ultra 5G AI Smartphone (Titanium Whitesilver, 12GB RAM, 512GB Storage), 200MP Camera, S Pen Included, Long Battery Life\n",
            "Product Price = 1,41,999.\n",
            "Product Rating = 4.2 out of 5 stars\n",
            "Number of Customer Reviews = 148 ratings\n",
            "Availability = In stock\n"
          ]
        }
      ],
      "source": [
        "from bs4 import BeautifulSoup\n",
        "import requests\n",
        "\n",
        "def get_title(soup):\n",
        "    try:\n",
        "        title = soup.find(\"span\", attrs={\"id\":'productTitle'})\n",
        "        title_value = title.string\n",
        "        title_string = title_value.strip()\n",
        "    except AttributeError:\n",
        "        title_string = \"\"\n",
        "    return title_string\n",
        "\n",
        "def get_price(soup):\n",
        "    try:\n",
        "        price = soup.find(\"span\", attrs={\"class\": \"a-price-whole\"})\n",
        "        if price is not None:\n",
        "            price_string = price.get_text(strip=True)\n",
        "        else:\n",
        "            price_string = \"\"\n",
        "    except AttributeError:\n",
        "        price_string = \"\"\n",
        "    return price_string\n",
        "\n",
        "def get_rating(soup):\n",
        "    try:\n",
        "        rating = soup.find(\"span\", attrs={\"class\":'a-icon-alt'})\n",
        "        if rating is not None:\n",
        "            rating_string = rating.get_text(strip=True)\n",
        "        else:\n",
        "            rating_string = \"\"\n",
        "    except AttributeError:\n",
        "        rating_string = \"\"\n",
        "    return rating_string\n",
        "\n",
        "def get_review_count(soup):\n",
        "    try:\n",
        "        review_count = soup.find(\"span\", attrs={\"id\":'acrCustomerReviewText'})\n",
        "        if review_count is not None:\n",
        "            review_count_string = review_count.get_text(strip=True)\n",
        "        else:\n",
        "            review_count_string = \"\"\n",
        "    except AttributeError:\n",
        "        review_count_string = \"\"\n",
        "    return review_count_string\n",
        "\n",
        "def get_availability(soup):\n",
        "    try:\n",
        "        get_availability = soup.find(\"div\", attrs={'id':'availability'})\n",
        "        if get_availability is not None:\n",
        "            availability_string = get_availability.get_text(strip=True)\n",
        "        else:\n",
        "            availability_string = \"\"\n",
        "    except AttributeError:\n",
        "        availability_string = \"\"\n",
        "    return availability_string\n",
        "\n",
        "if __name__ == '__main__':\n",
        "    headers = {\n",
        "        \"User-Agent\": \"Mozilla/5.0 (Windows NT 10.0; Win64; x64) AppleWebKit/537.36 (KHTML, like Gecko) Chrome/135.0.0.0 Safari/537.36\",\n",
        "        \"Accept-Language\": \"en-US, en;q=0.5\"\n",
        "    }\n",
        "    url = \"https://amzn.in/d/4tZYjEr\"\n",
        "    webpage = requests.get(url, headers=headers)\n",
        "    soup = BeautifulSoup(webpage.content, \"html.parser\")\n",
        "    print(\"Product Title =\", get_title(soup))\n",
        "    print(\"Product Price =\", get_price(soup))\n",
        "    print(\"Product Rating =\", get_rating(soup))\n",
        "    print(\"Number of Customer Reviews =\", get_review_count(soup))\n",
        "    print(\"Availability =\", get_availability(soup))\n"
      ]
    },
    {
      "cell_type": "code",
      "execution_count": null,
      "metadata": {
        "id": "oYtfBdPVXQl_"
      },
      "outputs": [],
      "source": []
    }
  ],
  "metadata": {
    "colab": {
      "provenance": []
    },
    "kernelspec": {
      "display_name": "Python 3",
      "name": "python3"
    },
    "language_info": {
      "name": "python"
    }
  },
  "nbformat": 4,
  "nbformat_minor": 0
}
